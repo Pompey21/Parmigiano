{
 "cells": [
  {
   "cell_type": "markdown",
   "id": "wrong-macro",
   "metadata": {},
   "source": [
    "# setup"
   ]
  },
  {
   "cell_type": "code",
   "execution_count": 81,
   "id": "heard-bronze",
   "metadata": {},
   "outputs": [
    {
     "name": "stdout",
     "output_type": "stream",
     "text": [
      "Setup was successful.\n"
     ]
    }
   ],
   "source": [
    "from optibook.synchronous_client import Exchange\n",
    "\n",
    "import logging\n",
    "logger = logging.getLogger('client')\n",
    "logger.setLevel('ERROR')\n",
    "\n",
    "print(\"Setup was successful.\")"
   ]
  },
  {
   "cell_type": "code",
   "execution_count": 136,
   "id": "living-crime",
   "metadata": {},
   "outputs": [
    {
     "name": "stderr",
     "output_type": "stream",
     "text": [
      "2021-03-06 22:42:32,826 [asyncio   ] [MainThread  ] Using selector: EpollSelector\n",
      "2021-03-06 22:42:32,971 [client    ] [Thread-7    ] Forcing a disconnect due to an error: Closing connection because someone else logged in with the same credentials. Only one session may be active at the same time.\n"
     ]
    }
   ],
   "source": [
    "e = Exchange()\n",
    "a = e.connect()"
   ]
  },
  {
   "cell_type": "code",
   "execution_count": 5,
   "id": "surgical-script",
   "metadata": {},
   "outputs": [],
   "source": [
    "e.disconnect()"
   ]
  },
  {
   "cell_type": "markdown",
   "id": "animated-liability",
   "metadata": {},
   "source": [
    "\n",
    "\n",
    "\n",
    "\n",
    "\n",
    "\n",
    "\n",
    "\n",
    "# finding the delta"
   ]
  },
  {
   "cell_type": "code",
   "execution_count": 137,
   "id": "compatible-memorabilia",
   "metadata": {},
   "outputs": [],
   "source": [
    "# just for ask\n",
    "amazon_book = e.get_last_price_book(\"AMAZON\")\n",
    "google_book = e.get_last_price_book(\"GOOGLE\")\n",
    "basket_book = e.get_last_price_book(\"TECH_BASKET\")"
   ]
  },
  {
   "cell_type": "code",
   "execution_count": 8,
   "id": "demanding-championship",
   "metadata": {},
   "outputs": [
    {
     "data": {
      "text/plain": [
       "([price_volume] price=116.30000000000001, volume=246,\n",
       " [price_volume] price=91.30000000000001, volume=248)"
      ]
     },
     "execution_count": 8,
     "metadata": {},
     "output_type": "execute_result"
    }
   ],
   "source": [
    "min(amazon_book.asks, key=(lambda x: x.price)), min(google_book.asks, key=(lambda x: x.price))"
   ]
  },
  {
   "cell_type": "code",
   "execution_count": 9,
   "id": "prescription-gross",
   "metadata": {},
   "outputs": [
    {
     "data": {
      "text/plain": [
       "[[price_volume] price=208.60000000000002, volume=25,\n",
       " [price_volume] price=208.8, volume=25,\n",
       " [price_volume] price=208.9, volume=50]"
      ]
     },
     "execution_count": 9,
     "metadata": {},
     "output_type": "execute_result"
    }
   ],
   "source": [
    "basket_book.asks"
   ]
  },
  {
   "cell_type": "code",
   "execution_count": 10,
   "id": "conditional-ceiling",
   "metadata": {},
   "outputs": [
    {
     "data": {
      "text/plain": [
       "-0.39999999999997726"
      ]
     },
     "execution_count": 10,
     "metadata": {},
     "output_type": "execute_result"
    }
   ],
   "source": [
    "121.1 + 85.2 - 206.7"
   ]
  },
  {
   "cell_type": "code",
   "execution_count": 11,
   "id": "educated-treasury",
   "metadata": {},
   "outputs": [],
   "source": [
    "#theoretical to actual\n",
    "def delta_ask():\n",
    "    amazon_book = e.get_last_price_book(\"AMAZON\").asks\n",
    "    google_book = e.get_last_price_book(\"GOOGLE\").asks\n",
    "    basket_book = e.get_last_price_book(\"TECH_BASKET\").asks\n",
    "    \n",
    "    while len(amazon_book) == 0 or len(google_book) == 0 or len(basket_book) == 0:\n",
    "        amazon_book = e.get_last_price_book(\"AMAZON\").asks\n",
    "        google_book = e.get_last_price_book(\"GOOGLE\").asks\n",
    "        basket_book = e.get_last_price_book(\"TECH_BASKET\").asks\n",
    "        \n",
    "    \n",
    "    theoretical_ask = (min(amazon_book, key=(lambda x: x.price)), min(google_book, key=(lambda x: x.price)))\n",
    "    actual_ask = min(basket_book, key=(lambda x: x.price))\n",
    "    \n",
    "    return (theoretical_ask[0].price + theoretical_ask[1].price - actual_ask.price, min(theoretical_ask[0].volume, theoretical_ask[1].volume, actual_ask.volume))"
   ]
  },
  {
   "cell_type": "code",
   "execution_count": 12,
   "id": "geographic-mainstream",
   "metadata": {},
   "outputs": [
    {
     "data": {
      "text/plain": [
       "(-0.6999999999999886, 25)"
      ]
     },
     "execution_count": 12,
     "metadata": {},
     "output_type": "execute_result"
    }
   ],
   "source": [
    "delta_ask()"
   ]
  },
  {
   "cell_type": "code",
   "execution_count": 13,
   "id": "indirect-threshold",
   "metadata": {},
   "outputs": [],
   "source": [
    "def execute_ask(max_volume=250):\n",
    "    amazon_book = e.get_last_price_book(\"AMAZON\").asks\n",
    "    google_book = e.get_last_price_book(\"GOOGLE\").asks\n",
    "    basket_book = e.get_last_price_book(\"TECH_BASKET\").asks\n",
    "    \n",
    "    while len(amazon_book) == 0 or len(google_book) == 0 or len(basket_book) == 0:\n",
    "        amazon_book = e.get_last_price_book(\"AMAZON\").asks\n",
    "        google_book = e.get_last_price_book(\"GOOGLE\").asks\n",
    "        basket_book = e.get_last_price_book(\"TECH_BASKET\").asks\n",
    "    \n",
    "    amazon_ask = min(amazon_book, key=(lambda x: x.price))\n",
    "    google_ask = min(google_book, key=(lambda x: x.price))\n",
    "    basket_ask = min(basket_book, key=(lambda x: x.price))\n",
    "    \n",
    "    volume = min(max_volume, amazon_ask.volume, google_ask.volume, basket_ask.volume)\n",
    "    \n",
    "    if amazon_ask.price + google_ask.price > basket_ask.price:\n",
    "        e.insert_order(\"AMAZON\", price=amazon_ask.price, volume=volume, side=\"ask\", order_type=\"limit\")\n",
    "        e.insert_order(\"GOOGLE\", price=google_ask.price, volume=volume, side=\"ask\", order_type=\"limit\")\n",
    "        \n",
    "        e.insert_order(\"TECH_BASKET\", price=basket_ask.price, volume=volume, side=\"bid\", order_type=\"limit\")\n",
    "    elif amazon_ask.price + google_ask.price < basket_ask.price:\n",
    "        e.insert_order(\"TECH_BASKET\", price=basket_ask.price, volume=volume, side=\"ask\", order_type=\"limit\")\n",
    "        \n",
    "        e.insert_order(\"AMAZON\", price=amazon_ask.price, volume=volume, side=\"bid\", order_type=\"limit\")\n",
    "        e.insert_order(\"GOOGLE\", price=google_ask.price, volume=volume, side=\"bid\", order_type=\"limit\")"
   ]
  },
  {
   "cell_type": "code",
   "execution_count": 24,
   "id": "raising-advocacy",
   "metadata": {},
   "outputs": [],
   "source": [
    "def execute_bid(max_volume=250):\n",
    "    margin = 0.9\n",
    "    amazon_book = e.get_last_price_book(\"AMAZON\").bids\n",
    "    google_book = e.get_last_price_book(\"GOOGLE\").bids\n",
    "    basket_book = e.get_last_price_book(\"TECH_BASKET\").bids\n",
    "    \n",
    "    while len(amazon_book) == 0 or len(google_book) == 0 or len(basket_book) == 0:\n",
    "        amazon_book = e.get_last_price_book(\"AMAZON\").bids\n",
    "        google_book = e.get_last_price_book(\"GOOGLE\").bids\n",
    "        basket_book = e.get_last_price_book(\"TECH_BASKET\").bids\n",
    "    \n",
    "    amazon_bid = min(amazon_book, key=(lambda x: x.price))\n",
    "    google_bid = min(google_book, key=(lambda x: x.price))\n",
    "    basket_bid = min(basket_book, key=(lambda x: x.price))\n",
    "    \n",
    "    volume = min(max_volume, amazon_bid.volume, google_bid.volume, basket_bid.volume)\n",
    "    \n",
    "    delta = amazon_bid.price + google_bid.price - basket_bid.price\n",
    "    if delta > 0:\n",
    "        print(amazon_bid.price + google_bid.price, basket_bid.price, amazon_bid.price - (1-margin) * delta, google_bid.price - (1-margin) * delta)\n",
    "        return\n",
    "        e.insert_order(\"AMAZON\", price=amazon_bid.price - , volume=volume, side=\"ask\", order_type=\"limit\")\n",
    "        e.insert_order(\"GOOGLE\", price=google_bid.price, volume=volume, side=\"ask\", order_type=\"limit\")\n",
    "        \n",
    "        e.insert_order(\"TECH_BASKET\", price=basket_bid.price, volume=volume, side=\"bid\", order_type=\"limit\")\n",
    "    elif amazon_bid.price + google_bid.price < basket_bid.price:\n",
    "        print(amazon_bid.price + google_bid.price, basket_bid.price, basket_bid.price - (1-margin) * delta)\n",
    "\n",
    "        return\n",
    "        e.insert_order(\"TECH_BASKET\", price=basket_bid.price, volume=volume, side=\"ask\", order_type=\"limit\")\n",
    "        \n",
    "        e.insert_order(\"AMAZON\", price=amazon_bid.price, volume=volume, side=\"bid\", order_type=\"limit\")\n",
    "        e.insert_order(\"GOOGLE\", price=google_bid.price, volume=volume, side=\"bid\", order_type=\"limit\")"
   ]
  },
  {
   "cell_type": "code",
   "execution_count": 25,
   "id": "stuck-class",
   "metadata": {},
   "outputs": [
    {
     "name": "stdout",
     "output_type": "stream",
     "text": [
      "206.10000000000002 205.60000000000002 118.95 87.05000000000001\n"
     ]
    }
   ],
   "source": [
    "execute_bid(100)"
   ]
  },
  {
   "cell_type": "code",
   "execution_count": 84,
   "id": "coastal-furniture",
   "metadata": {},
   "outputs": [],
   "source": [
    "instruments = [\"AMAZON\", \"GOOGLE\", \"TECH_BASKET\"]"
   ]
  },
  {
   "cell_type": "code",
   "execution_count": 117,
   "id": "distinct-latitude",
   "metadata": {},
   "outputs": [],
   "source": [
    "for instrument in instruments:\n",
    "    outstanding = e.get_outstanding_orders(instrument)\n",
    "    for key, status in e.get_outstanding_orders(instrument).items():\n",
    "        print(f\"{instrument}: {status.side} {status.volume}@{status.price}\")"
   ]
  },
  {
   "cell_type": "code",
   "execution_count": 118,
   "id": "temporal-chamber",
   "metadata": {},
   "outputs": [
    {
     "data": {
      "text/plain": [
       "{'AMAZON': {'volume': 0, 'cash': 366.1000000000058},\n",
       " 'GOOGLE': {'volume': 0, 'cash': -1054.1999999999916},\n",
       " 'TECH_BASKET': {'volume': -347, 'cash': 71228.9}}"
      ]
     },
     "execution_count": 118,
     "metadata": {},
     "output_type": "execute_result"
    }
   ],
   "source": [
    "e.get_positions_and_cash()"
   ]
  },
  {
   "cell_type": "code",
   "execution_count": 87,
   "id": "patent-parameter",
   "metadata": {},
   "outputs": [],
   "source": [
    "def bail():\n",
    "    # Get out of all positions you are currently holding, regarless of the loss involved. That means selling whatever\n",
    "    # you are long, and buying-back whatever you are short. Be sure you know what you are doing when you use this logic.\n",
    "    print(e.get_positions())\n",
    "    for s, p in e.get_positions().items():\n",
    "        if p > 0:\n",
    "            e.insert_order(s, price=1, volume=p, side='ask', order_type='ioc')\n",
    "        elif p < 0:\n",
    "            e.insert_order(s, price=100000, volume=-p, side='bid', order_type='ioc')  \n",
    "    print(e.get_positions())"
   ]
  },
  {
   "cell_type": "code",
   "execution_count": null,
   "id": "smart-mozambique",
   "metadata": {},
   "outputs": [],
   "source": []
  },
  {
   "cell_type": "code",
   "execution_count": 138,
   "id": "creative-johns",
   "metadata": {},
   "outputs": [],
   "source": [
    "def execute(side, max_volume, margin = 0.9):\n",
    "    instruments = [\"AMAZON\", \"GOOGLE\", \"TECH_BASKET\"]\n",
    "\n",
    "    def get_available_price(instrument, side):\n",
    "        book = e.get_last_price_book(instrument)\n",
    "        if side == \"bid\":\n",
    "            return max(book.bids, key=(lambda x: x.price)) if len(book.bids) != 0 else None\n",
    "        elif side == \"ask\":\n",
    "            return min(book.asks, key=(lambda x: x.price)) if len(book.asks) != 0 else None\n",
    "        \n",
    "    def get_prices(side):\n",
    "        prices = { instrument: get_available_price(instrument, side) for instrument in instruments }\n",
    "        \n",
    "        while None in prices.values():\n",
    "            prices = { instrument: get_available_price(instrument, side) for instrument in instruments }\n",
    "            \n",
    "        return prices\n",
    "    \n",
    "    \n",
    "    prices = get_prices(side)\n",
    "    amazon_bid = prices.get(\"AMAZON\")\n",
    "    google_bid = prices.get(\"GOOGLE\")\n",
    "    basket_bid = prices.get(\"TECH_BASKET\")\n",
    "    \n",
    "    volume = min(max_volume, amazon_bid.volume, google_bid.volume, basket_bid.volume)\n",
    "    \n",
    "    delta = amazon_bid.price + google_bid.price - basket_bid.price\n",
    "    if delta > 0:\n",
    "        if side == 'ask':\n",
    "            #print(amazon_bid.price + google_bid.price, basket_bid.price, amazon_bid.price - (1-margin) * delta, google_bid.price - (1-margin) * delta)\n",
    "            \n",
    "            e.insert_order(\"AMAZON\", price=amazon_bid.price - 0.1, volume=volume, side=\"ask\", order_type=\"limit\")\n",
    "            e.insert_order(\"GOOGLE\", price=google_bid.price - 0.1, volume=volume, side=\"ask\", order_type=\"limit\")\n",
    "\n",
    "            e.insert_order(\"TECH_BASKET\", price=basket_bid.price, volume=volume, side=\"bid\", order_type=\"ioc\")\n",
    "            \n",
    "        elif side == 'bid':\n",
    "            #print(amazon_bid.price + google_bid.price, basket_bid.price, amazon_bid.price - (1-margin) * delta, google_bid.price - (1-margin) * delta)\n",
    "            \n",
    "            e.insert_order(\"AMAZON\", price=amazon_bid.price, volume=volume, side=\"ask\", order_type=\"ioc\")\n",
    "            e.insert_order(\"GOOGLE\", price=google_bid.price, volume=volume, side=\"ask\", order_type=\"ioc\")\n",
    "\n",
    "            e.insert_order(\"TECH_BASKET\", price=basket_bid.price + 0.1, volume=volume, side=\"bid\", order_type=\"limit\")\n",
    "    elif amazon_bid.price + google_bid.price < basket_bid.price:\n",
    "        if side == 'ask':\n",
    "            #print(amazon_bid.price + google_bid.price, basket_bid.price, basket_bid.price - (1-margin) * delta)\n",
    "\n",
    "                                                        # plus margin cuz delta is already negative\n",
    "            e.insert_order(\"TECH_BASKET\", price=basket_bid.price + 0.1, volume=volume, side=\"ask\", order_type=\"limit\")\n",
    "\n",
    "            e.insert_order(\"AMAZON\", price=amazon_bid.price, volume=volume, side=\"bid\", order_type=\"ioc\")\n",
    "            e.insert_order(\"GOOGLE\", price=google_bid.price, volume=volume, side=\"bid\", order_type=\"ioc\")\n",
    "        elif side == 'bid':\n",
    "            #print(amazon_bid.price + google_bid.price, basket_bid.price, basket_bid.price - (1-margin) * delta)\n",
    "\n",
    "                                                        # plus margin cuz delta is already negative\n",
    "            e.insert_order(\"TECH_BASKET\", price=basket_bid.price, volume=volume, side=\"ask\", order_type=\"ioc\")\n",
    "\n",
    "            e.insert_order(\"AMAZON\", price=amazon_bid.price - 0.1, volume=volume, side=\"bid\", order_type=\"limit\")\n",
    "            e.insert_order(\"GOOGLE\", price=google_bid.price - 0.1, volume=volume, side=\"bid\", order_type=\"limit\")"
   ]
  },
  {
   "cell_type": "code",
   "execution_count": 102,
   "id": "reported-handbook",
   "metadata": {},
   "outputs": [
    {
     "name": "stdout",
     "output_type": "stream",
     "text": [
      "212.3 211.10000000000002 113.98 98.08\n"
     ]
    }
   ],
   "source": [
    "execute(\"bid\", 100)"
   ]
  },
  {
   "cell_type": "code",
   "execution_count": 90,
   "id": "possible-gothic",
   "metadata": {},
   "outputs": [
    {
     "data": {
      "text/plain": [
       "{'AMAZON': {'volume': -300, 'cash': 34417.20000000001},\n",
       " 'GOOGLE': {'volume': -300, 'cash': 28188.30000000001},\n",
       " 'TECH_BASKET': {'volume': 48, 'cash': -11192.800000000001}}"
      ]
     },
     "execution_count": 90,
     "metadata": {},
     "output_type": "execute_result"
    }
   ],
   "source": [
    "e.get_positions_and_cash()"
   ]
  },
  {
   "cell_type": "code",
   "execution_count": 91,
   "id": "compliant-workstation",
   "metadata": {},
   "outputs": [],
   "source": [
    "from time import sleep"
   ]
  },
  {
   "cell_type": "code",
   "execution_count": 100,
   "id": "waiting-director",
   "metadata": {
    "jupyter": {
     "source_hidden": true
    },
    "tags": []
   },
   "outputs": [],
   "source": [
    "def hit_and_quit():\n",
    "    abort = -3000\n",
    "    vol = 250\n",
    "    margin = 0\n",
    "    interval = 10\n",
    "    flip_flop = False\n",
    "    while e.get_pnl() > abort:\n",
    "        execute(\"bid\" if flip_flop else \"ask\", vol, margin=margin)\n",
    "        #flip_flop = not flip_flop\n",
    "        \n",
    "        #profit comes from the hedge, so don't bother holding stocks\n",
    "        sleep(interval)\n",
    "        bail()\n",
    "        sleep(interval)\n",
    "        "
   ]
  },
  {
   "cell_type": "code",
   "execution_count": 139,
   "id": "baking-maryland",
   "metadata": {},
   "outputs": [
    {
     "ename": "KeyboardInterrupt",
     "evalue": "",
     "output_type": "error",
     "traceback": [
      "\u001b[0;31m---------------------------------------------------------------------------\u001b[0m",
      "\u001b[0;31mKeyboardInterrupt\u001b[0m                         Traceback (most recent call last)",
      "\u001b[0;32m<ipython-input-139-ada4304d206b>\u001b[0m in \u001b[0;36m<module>\u001b[0;34m\u001b[0m\n\u001b[0;32m----> 1\u001b[0;31m \u001b[0mhit_and_quit\u001b[0m\u001b[0;34m(\u001b[0m\u001b[0;34m)\u001b[0m\u001b[0;34m\u001b[0m\u001b[0;34m\u001b[0m\u001b[0m\n\u001b[0m",
      "\u001b[0;32m<ipython-input-107-5c9573841f8a>\u001b[0m in \u001b[0;36mhit_and_quit\u001b[0;34m()\u001b[0m\n\u001b[1;32m      5\u001b[0m     \u001b[0;32mwhile\u001b[0m \u001b[0;32mTrue\u001b[0m\u001b[0;34m:\u001b[0m\u001b[0;34m\u001b[0m\u001b[0;34m\u001b[0m\u001b[0m\n\u001b[1;32m      6\u001b[0m         \u001b[0mexecute\u001b[0m\u001b[0;34m(\u001b[0m\u001b[0;34m\"bid\"\u001b[0m\u001b[0;34m,\u001b[0m \u001b[0mvol\u001b[0m\u001b[0;34m,\u001b[0m \u001b[0mmargin\u001b[0m\u001b[0;34m=\u001b[0m\u001b[0mmargin\u001b[0m\u001b[0;34m)\u001b[0m\u001b[0;34m\u001b[0m\u001b[0;34m\u001b[0m\u001b[0m\n\u001b[0;32m----> 7\u001b[0;31m         \u001b[0msleep\u001b[0m\u001b[0;34m(\u001b[0m\u001b[0minterval\u001b[0m\u001b[0;34m)\u001b[0m\u001b[0;34m\u001b[0m\u001b[0;34m\u001b[0m\u001b[0m\n\u001b[0m\u001b[1;32m      8\u001b[0m         \u001b[0mexecute\u001b[0m\u001b[0;34m(\u001b[0m\u001b[0;34m\"ask\"\u001b[0m\u001b[0;34m,\u001b[0m \u001b[0mvol\u001b[0m\u001b[0;34m,\u001b[0m \u001b[0mmargin\u001b[0m\u001b[0;34m=\u001b[0m\u001b[0mmargin\u001b[0m\u001b[0;34m)\u001b[0m\u001b[0;34m\u001b[0m\u001b[0;34m\u001b[0m\u001b[0m\n\u001b[1;32m      9\u001b[0m         \u001b[0msleep\u001b[0m\u001b[0;34m(\u001b[0m\u001b[0minterval\u001b[0m\u001b[0;34m)\u001b[0m\u001b[0;34m\u001b[0m\u001b[0;34m\u001b[0m\u001b[0m\n",
      "\u001b[0;31mKeyboardInterrupt\u001b[0m: "
     ]
    }
   ],
   "source": [
    "hit_and_quit()"
   ]
  },
  {
   "cell_type": "code",
   "execution_count": 140,
   "id": "surface-judgment",
   "metadata": {},
   "outputs": [
    {
     "name": "stdout",
     "output_type": "stream",
     "text": [
      "{'AMAZON': -98, 'GOOGLE': -98, 'TECH_BASKET': -281}\n",
      "{'AMAZON': 0, 'GOOGLE': 0, 'TECH_BASKET': -206}\n"
     ]
    }
   ],
   "source": [
    "bail()"
   ]
  },
  {
   "cell_type": "code",
   "execution_count": null,
   "id": "trained-temple",
   "metadata": {},
   "outputs": [],
   "source": [
    "e.get_pnl()"
   ]
  },
  {
   "cell_type": "code",
   "execution_count": 141,
   "id": "victorian-tennessee",
   "metadata": {},
   "outputs": [],
   "source": [
    "def double_down():\n",
    "    vol = 250\n",
    "    margin = 0\n",
    "    interval = 10\n",
    "    while True:\n",
    "        execute(\"bid\", vol, margin=margin)\n",
    "        sleep(interval)\n",
    "        execute(\"ask\", vol, margin=margin)\n",
    "        sleep(interval)"
   ]
  },
  {
   "cell_type": "code",
   "execution_count": 142,
   "id": "placed-absolute",
   "metadata": {},
   "outputs": [
    {
     "name": "stderr",
     "output_type": "stream",
     "text": [
      "2021-03-06 22:49:07,974 [client    ] [Thread-8    ] Forcing a disconnect due to an error: Pre-trade position limit (-500) breached on instrument AMAZON. Old position=-471 New position=-712.\n"
     ]
    },
    {
     "ename": "KjException",
     "evalue": "(remote):0: failed: remote exception: std::exception: Pre-trade position limit (-500) breached on instrument AMAZON. Old position=-471 New position=-712\nstack: 7fec70c21e80 7fec70c207b0 7fec70ba7666 7fec70b96572 7fec70b966a9 7fec70b8a6a4 7fec70ae6069 7fec70aed998 7fec86f80a9a 7fec86eefe7e 7fec79a70cba 7fec79a72293 7fec86edf152 7fec86f7cdb8 7fec86f86369 7fec86f86792 7fec86f7b146 7fec86f86369 7fec86f86792 7fec86f7b146 7fec86f86369 7fec86f86792 7fec86f7b146 7fec86f86369 7fec86f86792 7fec86f7b146 7fec86f878c1 7fec86edf3cd 7fec86edf4d1 7fec86edf152 7fec86f7cdb8 7fec86f86369",
     "output_type": "error",
     "traceback": [
      "\u001b[0;31m---------------------------------------------------------------------------\u001b[0m",
      "\u001b[0;31mKjException\u001b[0m                               Traceback (most recent call last)",
      "\u001b[0;32m<ipython-input-142-f382cbc15fba>\u001b[0m in \u001b[0;36m<module>\u001b[0;34m\u001b[0m\n\u001b[0;32m----> 1\u001b[0;31m \u001b[0mdouble_down\u001b[0m\u001b[0;34m(\u001b[0m\u001b[0;34m)\u001b[0m\u001b[0;34m\u001b[0m\u001b[0;34m\u001b[0m\u001b[0m\n\u001b[0m",
      "\u001b[0;32m<ipython-input-141-a4d95e0ea99a>\u001b[0m in \u001b[0;36mdouble_down\u001b[0;34m()\u001b[0m\n\u001b[1;32m      6\u001b[0m         \u001b[0mexecute\u001b[0m\u001b[0;34m(\u001b[0m\u001b[0;34m\"bid\"\u001b[0m\u001b[0;34m,\u001b[0m \u001b[0mvol\u001b[0m\u001b[0;34m,\u001b[0m \u001b[0mmargin\u001b[0m\u001b[0;34m=\u001b[0m\u001b[0mmargin\u001b[0m\u001b[0;34m)\u001b[0m\u001b[0;34m\u001b[0m\u001b[0;34m\u001b[0m\u001b[0m\n\u001b[1;32m      7\u001b[0m         \u001b[0msleep\u001b[0m\u001b[0;34m(\u001b[0m\u001b[0minterval\u001b[0m\u001b[0;34m)\u001b[0m\u001b[0;34m\u001b[0m\u001b[0;34m\u001b[0m\u001b[0m\n\u001b[0;32m----> 8\u001b[0;31m         \u001b[0mexecute\u001b[0m\u001b[0;34m(\u001b[0m\u001b[0;34m\"ask\"\u001b[0m\u001b[0;34m,\u001b[0m \u001b[0mvol\u001b[0m\u001b[0;34m,\u001b[0m \u001b[0mmargin\u001b[0m\u001b[0;34m=\u001b[0m\u001b[0mmargin\u001b[0m\u001b[0;34m)\u001b[0m\u001b[0;34m\u001b[0m\u001b[0;34m\u001b[0m\u001b[0m\n\u001b[0m\u001b[1;32m      9\u001b[0m         \u001b[0msleep\u001b[0m\u001b[0;34m(\u001b[0m\u001b[0minterval\u001b[0m\u001b[0;34m)\u001b[0m\u001b[0;34m\u001b[0m\u001b[0;34m\u001b[0m\u001b[0m\n",
      "\u001b[0;32m<ipython-input-138-cf55cbb4dcec>\u001b[0m in \u001b[0;36mexecute\u001b[0;34m(side, max_volume, margin)\u001b[0m\n\u001b[1;32m     30\u001b[0m             \u001b[0;31m#print(amazon_bid.price + google_bid.price, basket_bid.price, amazon_bid.price - (1-margin) * delta, google_bid.price - (1-margin) * delta)\u001b[0m\u001b[0;34m\u001b[0m\u001b[0;34m\u001b[0m\u001b[0;34m\u001b[0m\u001b[0m\n\u001b[1;32m     31\u001b[0m \u001b[0;34m\u001b[0m\u001b[0m\n\u001b[0;32m---> 32\u001b[0;31m             \u001b[0me\u001b[0m\u001b[0;34m.\u001b[0m\u001b[0minsert_order\u001b[0m\u001b[0;34m(\u001b[0m\u001b[0;34m\"AMAZON\"\u001b[0m\u001b[0;34m,\u001b[0m \u001b[0mprice\u001b[0m\u001b[0;34m=\u001b[0m\u001b[0mamazon_bid\u001b[0m\u001b[0;34m.\u001b[0m\u001b[0mprice\u001b[0m \u001b[0;34m-\u001b[0m \u001b[0;36m0.1\u001b[0m\u001b[0;34m,\u001b[0m \u001b[0mvolume\u001b[0m\u001b[0;34m=\u001b[0m\u001b[0mvolume\u001b[0m\u001b[0;34m,\u001b[0m \u001b[0mside\u001b[0m\u001b[0;34m=\u001b[0m\u001b[0;34m\"ask\"\u001b[0m\u001b[0;34m,\u001b[0m \u001b[0morder_type\u001b[0m\u001b[0;34m=\u001b[0m\u001b[0;34m\"limit\"\u001b[0m\u001b[0;34m)\u001b[0m\u001b[0;34m\u001b[0m\u001b[0;34m\u001b[0m\u001b[0m\n\u001b[0m\u001b[1;32m     33\u001b[0m             \u001b[0me\u001b[0m\u001b[0;34m.\u001b[0m\u001b[0minsert_order\u001b[0m\u001b[0;34m(\u001b[0m\u001b[0;34m\"GOOGLE\"\u001b[0m\u001b[0;34m,\u001b[0m \u001b[0mprice\u001b[0m\u001b[0;34m=\u001b[0m\u001b[0mgoogle_bid\u001b[0m\u001b[0;34m.\u001b[0m\u001b[0mprice\u001b[0m \u001b[0;34m-\u001b[0m \u001b[0;36m0.1\u001b[0m\u001b[0;34m,\u001b[0m \u001b[0mvolume\u001b[0m\u001b[0;34m=\u001b[0m\u001b[0mvolume\u001b[0m\u001b[0;34m,\u001b[0m \u001b[0mside\u001b[0m\u001b[0;34m=\u001b[0m\u001b[0;34m\"ask\"\u001b[0m\u001b[0;34m,\u001b[0m \u001b[0morder_type\u001b[0m\u001b[0;34m=\u001b[0m\u001b[0;34m\"limit\"\u001b[0m\u001b[0;34m)\u001b[0m\u001b[0;34m\u001b[0m\u001b[0;34m\u001b[0m\u001b[0m\n\u001b[1;32m     34\u001b[0m \u001b[0;34m\u001b[0m\u001b[0m\n",
      "\u001b[0;32m/usr/local/lib/python3.6/site-packages/optibook/synchronous_client.py\u001b[0m in \u001b[0;36minsert_order\u001b[0;34m(self, instrument_id, price, volume, side, order_type)\u001b[0m\n\u001b[1;32m     82\u001b[0m \u001b[0;34m\u001b[0m\u001b[0m\n\u001b[1;32m     83\u001b[0m         return self._wrapper.run_on_loop(\n\u001b[0;32m---> 84\u001b[0;31m             \u001b[0mself\u001b[0m\u001b[0;34m.\u001b[0m\u001b[0m_e\u001b[0m\u001b[0;34m.\u001b[0m\u001b[0minsert_order\u001b[0m\u001b[0;34m(\u001b[0m\u001b[0minstrument_id\u001b[0m\u001b[0;34m=\u001b[0m\u001b[0minstrument_id\u001b[0m\u001b[0;34m,\u001b[0m \u001b[0mprice\u001b[0m\u001b[0;34m=\u001b[0m\u001b[0mprice\u001b[0m\u001b[0;34m,\u001b[0m \u001b[0mvolume\u001b[0m\u001b[0;34m=\u001b[0m\u001b[0mvolume\u001b[0m\u001b[0;34m,\u001b[0m \u001b[0mside\u001b[0m\u001b[0;34m=\u001b[0m\u001b[0mside\u001b[0m\u001b[0;34m,\u001b[0m \u001b[0morder_type\u001b[0m\u001b[0;34m=\u001b[0m\u001b[0morder_type\u001b[0m\u001b[0;34m)\u001b[0m\u001b[0;34m\u001b[0m\u001b[0;34m\u001b[0m\u001b[0m\n\u001b[0m\u001b[1;32m     85\u001b[0m         )\n\u001b[1;32m     86\u001b[0m \u001b[0;34m\u001b[0m\u001b[0m\n",
      "\u001b[0;32m/usr/local/lib/python3.6/site-packages/optibook/synchronous_wrapper.py\u001b[0m in \u001b[0;36mrun_on_loop\u001b[0;34m(self, awaitable)\u001b[0m\n\u001b[1;32m     71\u001b[0m         \u001b[0mself\u001b[0m\u001b[0;34m.\u001b[0m\u001b[0m_loop\u001b[0m\u001b[0;34m.\u001b[0m\u001b[0mcall_soon_threadsafe\u001b[0m\u001b[0;34m(\u001b[0m\u001b[0mcallback\u001b[0m\u001b[0;34m)\u001b[0m\u001b[0;34m\u001b[0m\u001b[0;34m\u001b[0m\u001b[0m\n\u001b[1;32m     72\u001b[0m \u001b[0;34m\u001b[0m\u001b[0m\n\u001b[0;32m---> 73\u001b[0;31m         \u001b[0mret\u001b[0m \u001b[0;34m=\u001b[0m \u001b[0mfut\u001b[0m\u001b[0;34m.\u001b[0m\u001b[0mresult\u001b[0m\u001b[0;34m(\u001b[0m\u001b[0;34m)\u001b[0m\u001b[0;34m\u001b[0m\u001b[0;34m\u001b[0m\u001b[0m\n\u001b[0m\u001b[1;32m     74\u001b[0m         \u001b[0mend_time\u001b[0m \u001b[0;34m=\u001b[0m \u001b[0mdatetime\u001b[0m\u001b[0;34m.\u001b[0m\u001b[0mdatetime\u001b[0m\u001b[0;34m.\u001b[0m\u001b[0mnow\u001b[0m\u001b[0;34m(\u001b[0m\u001b[0;34m)\u001b[0m\u001b[0;34m\u001b[0m\u001b[0;34m\u001b[0m\u001b[0m\n\u001b[1;32m     75\u001b[0m         \u001b[0mdiff\u001b[0m \u001b[0;34m=\u001b[0m \u001b[0mend_time\u001b[0m \u001b[0;34m-\u001b[0m \u001b[0mstart_time\u001b[0m\u001b[0;34m\u001b[0m\u001b[0;34m\u001b[0m\u001b[0m\n",
      "\u001b[0;32m/usr/lib64/python3.6/concurrent/futures/_base.py\u001b[0m in \u001b[0;36mresult\u001b[0;34m(self, timeout)\u001b[0m\n\u001b[1;32m    430\u001b[0m                 \u001b[0;32mraise\u001b[0m \u001b[0mCancelledError\u001b[0m\u001b[0;34m(\u001b[0m\u001b[0;34m)\u001b[0m\u001b[0;34m\u001b[0m\u001b[0;34m\u001b[0m\u001b[0m\n\u001b[1;32m    431\u001b[0m             \u001b[0;32melif\u001b[0m \u001b[0mself\u001b[0m\u001b[0;34m.\u001b[0m\u001b[0m_state\u001b[0m \u001b[0;34m==\u001b[0m \u001b[0mFINISHED\u001b[0m\u001b[0;34m:\u001b[0m\u001b[0;34m\u001b[0m\u001b[0;34m\u001b[0m\u001b[0m\n\u001b[0;32m--> 432\u001b[0;31m                 \u001b[0;32mreturn\u001b[0m \u001b[0mself\u001b[0m\u001b[0;34m.\u001b[0m\u001b[0m__get_result\u001b[0m\u001b[0;34m(\u001b[0m\u001b[0;34m)\u001b[0m\u001b[0;34m\u001b[0m\u001b[0;34m\u001b[0m\u001b[0m\n\u001b[0m\u001b[1;32m    433\u001b[0m             \u001b[0;32melse\u001b[0m\u001b[0;34m:\u001b[0m\u001b[0;34m\u001b[0m\u001b[0;34m\u001b[0m\u001b[0m\n\u001b[1;32m    434\u001b[0m                 \u001b[0;32mraise\u001b[0m \u001b[0mTimeoutError\u001b[0m\u001b[0;34m(\u001b[0m\u001b[0;34m)\u001b[0m\u001b[0;34m\u001b[0m\u001b[0;34m\u001b[0m\u001b[0m\n",
      "\u001b[0;32m/usr/lib64/python3.6/concurrent/futures/_base.py\u001b[0m in \u001b[0;36m__get_result\u001b[0;34m(self)\u001b[0m\n\u001b[1;32m    382\u001b[0m     \u001b[0;32mdef\u001b[0m \u001b[0m__get_result\u001b[0m\u001b[0;34m(\u001b[0m\u001b[0mself\u001b[0m\u001b[0;34m)\u001b[0m\u001b[0;34m:\u001b[0m\u001b[0;34m\u001b[0m\u001b[0;34m\u001b[0m\u001b[0m\n\u001b[1;32m    383\u001b[0m         \u001b[0;32mif\u001b[0m \u001b[0mself\u001b[0m\u001b[0;34m.\u001b[0m\u001b[0m_exception\u001b[0m\u001b[0;34m:\u001b[0m\u001b[0;34m\u001b[0m\u001b[0;34m\u001b[0m\u001b[0m\n\u001b[0;32m--> 384\u001b[0;31m             \u001b[0;32mraise\u001b[0m \u001b[0mself\u001b[0m\u001b[0;34m.\u001b[0m\u001b[0m_exception\u001b[0m\u001b[0;34m\u001b[0m\u001b[0;34m\u001b[0m\u001b[0m\n\u001b[0m\u001b[1;32m    385\u001b[0m         \u001b[0;32melse\u001b[0m\u001b[0;34m:\u001b[0m\u001b[0;34m\u001b[0m\u001b[0;34m\u001b[0m\u001b[0m\n\u001b[1;32m    386\u001b[0m             \u001b[0;32mreturn\u001b[0m \u001b[0mself\u001b[0m\u001b[0;34m.\u001b[0m\u001b[0m_result\u001b[0m\u001b[0;34m\u001b[0m\u001b[0;34m\u001b[0m\u001b[0m\n",
      "\u001b[0;32m/usr/local/lib/python3.6/site-packages/optibook/exchange_client.py\u001b[0m in \u001b[0;36minsert_order\u001b[0;34m(self, instrument_id, price, volume, side, order_type)\u001b[0m\n\u001b[1;32m    226\u001b[0m         \u001b[0;32massert\u001b[0m \u001b[0mside\u001b[0m \u001b[0;32min\u001b[0m \u001b[0mALL_SIDES\u001b[0m\u001b[0;34m,\u001b[0m \u001b[0;34mf\"side must be one of {ALL_SIDES}\"\u001b[0m\u001b[0;34m\u001b[0m\u001b[0;34m\u001b[0m\u001b[0m\n\u001b[1;32m    227\u001b[0m         \u001b[0;32massert\u001b[0m \u001b[0morder_type\u001b[0m \u001b[0;32min\u001b[0m \u001b[0mALL_ORDER_TYPES\u001b[0m\u001b[0;34m,\u001b[0m \u001b[0;34mf\"order_type must be one of {ALL_ORDER_TYPES}\"\u001b[0m\u001b[0;34m\u001b[0m\u001b[0;34m\u001b[0m\u001b[0m\n\u001b[0;32m--> 228\u001b[0;31m         \u001b[0;32mreturn\u001b[0m \u001b[0;34m(\u001b[0m\u001b[0mawait\u001b[0m \u001b[0mself\u001b[0m\u001b[0;34m.\u001b[0m\u001b[0m_exec\u001b[0m\u001b[0;34m.\u001b[0m\u001b[0minsertOrder\u001b[0m\u001b[0;34m(\u001b[0m\u001b[0minstrument_id\u001b[0m\u001b[0;34m,\u001b[0m \u001b[0mprice\u001b[0m\u001b[0;34m,\u001b[0m \u001b[0mvolume\u001b[0m\u001b[0;34m,\u001b[0m \u001b[0mside\u001b[0m\u001b[0;34m,\u001b[0m \u001b[0morder_type\u001b[0m\u001b[0;34m)\u001b[0m\u001b[0;34m.\u001b[0m\u001b[0ma_wait\u001b[0m\u001b[0;34m(\u001b[0m\u001b[0;34m)\u001b[0m\u001b[0;34m)\u001b[0m\u001b[0;34m.\u001b[0m\u001b[0morderId\u001b[0m\u001b[0;34m\u001b[0m\u001b[0;34m\u001b[0m\u001b[0m\n\u001b[0m\u001b[1;32m    229\u001b[0m \u001b[0;34m\u001b[0m\u001b[0m\n\u001b[1;32m    230\u001b[0m     \u001b[0;34masync\u001b[0m \u001b[0;32mdef\u001b[0m \u001b[0mamend_order\u001b[0m\u001b[0;34m(\u001b[0m\u001b[0mself\u001b[0m\u001b[0;34m,\u001b[0m \u001b[0minstrument_id\u001b[0m\u001b[0;34m,\u001b[0m \u001b[0morder_id\u001b[0m\u001b[0;34m,\u001b[0m \u001b[0mvolume\u001b[0m\u001b[0;34m)\u001b[0m\u001b[0;34m:\u001b[0m\u001b[0;34m\u001b[0m\u001b[0;34m\u001b[0m\u001b[0m\n",
      "\u001b[0;32m/usr/local/lib64/python3.6/site-packages/capnp/lib/capnp.pyx\u001b[0m in \u001b[0;36ma_wait\u001b[0;34m()\u001b[0m\n",
      "\u001b[0;31mKjException\u001b[0m: (remote):0: failed: remote exception: std::exception: Pre-trade position limit (-500) breached on instrument AMAZON. Old position=-471 New position=-712\nstack: 7fec70c21e80 7fec70c207b0 7fec70ba7666 7fec70b96572 7fec70b966a9 7fec70b8a6a4 7fec70ae6069 7fec70aed998 7fec86f80a9a 7fec86eefe7e 7fec79a70cba 7fec79a72293 7fec86edf152 7fec86f7cdb8 7fec86f86369 7fec86f86792 7fec86f7b146 7fec86f86369 7fec86f86792 7fec86f7b146 7fec86f86369 7fec86f86792 7fec86f7b146 7fec86f86369 7fec86f86792 7fec86f7b146 7fec86f878c1 7fec86edf3cd 7fec86edf4d1 7fec86edf152 7fec86f7cdb8 7fec86f86369"
     ]
    }
   ],
   "source": [
    "double_down()"
   ]
  },
  {
   "cell_type": "code",
   "execution_count": 129,
   "id": "together-caution",
   "metadata": {},
   "outputs": [
    {
     "data": {
      "text/plain": [
       "567389"
      ]
     },
     "execution_count": 129,
     "metadata": {},
     "output_type": "execute_result"
    }
   ],
   "source": [
    "e.insert_order(\"TECH_BASKET\", price=300, volume=20, side=\"ask\", order_type=\"limit\")"
   ]
  },
  {
   "cell_type": "code",
   "execution_count": 130,
   "id": "saved-amino",
   "metadata": {},
   "outputs": [
    {
     "name": "stdout",
     "output_type": "stream",
     "text": [
      "{567389: <optibook.common_types.OrderStatus object at 0x7fec50fef518>}\n",
      "{}\n",
      "{}\n"
     ]
    }
   ],
   "source": [
    "instruments = [\"TECH_BASKET\",\"AMAZON\",\"GOOGLE\"]\n",
    "for instrument in instruments:\n",
    "    orders = e.get_outstanding_orders(instrument)\n",
    "    print(orders)"
   ]
  },
  {
   "cell_type": "code",
   "execution_count": 131,
   "id": "flush-professor",
   "metadata": {},
   "outputs": [],
   "source": [
    "#########################################"
   ]
  },
  {
   "cell_type": "code",
   "execution_count": 135,
   "id": "alike-natural",
   "metadata": {},
   "outputs": [],
   "source": [
    "def get_available_price(instrument, side):\n",
    "    book = e.get_last_price_book(instrument)\n",
    "    if side == \"bid\":\n",
    "        return max(book.bids, key=(lambda x: x.price)) if len(book.bids) != 0 else None\n",
    "    elif side == \"ask\":\n",
    "        return min(book.asks, key=(lambda x: x.price)) if len(book.asks) != 0 else None\n",
    "        \n",
    "def get_prices(side, instruments=[\"AMAZON\", \"GOOGLE\", \"TECH_BASKET\"]):\n",
    "    prices = { instrument: get_available_price(instrument, side) for instrument in instruments }\n",
    "        \n",
    "    while None in prices.values():\n",
    "        prices = { instrument: get_available_price(instrument, side) for instrument in instruments }\n",
    "            \n",
    "    return prices\n",
    "\n",
    "def get_single_prices(side):\n",
    "    prices = { instrument: get_available_price(instrument, side) for instrument in instruments }\n",
    "        \n",
    "    while None in prices.values():\n",
    "        prices = { instrument: get_available_price(instrument, side) for instrument in instruments }\n",
    "            \n",
    "    return prices\n",
    "    \n",
    "    \n",
    "prices = get_prices(\"ask\")\n",
    "amazon_bid = prices.get(\"AMAZON\")\n",
    "google_bid = prices.get(\"GOOGLE\")\n",
    "basket_bid = prices.get(\"TECH_BASKET\")"
   ]
  },
  {
   "cell_type": "code",
   "execution_count": null,
   "id": "considered-floor",
   "metadata": {},
   "outputs": [],
   "source": [
    "def execute2(side, name_stock):\n",
    "    instruments = [\"TECH_BASKET\",\"AMAZON\",\"GOOGLE\"]\n",
    "    \n",
    "    for instrument in instruments:\n",
    "        orders = e.get_outstanding_orders(instrument)\n",
    "        \n",
    "        for order in orders:    \n",
    "            if book_amazon.price+book_google<=order.price:\n",
    "                if orders.instrument_id == \"TECH_BASKET\":\n",
    "                    volume = orders.volume\n",
    "\n",
    "                    # how much is available on the other side\n",
    "                    book_amazon = get_available_price(\"AMAZON\", side)\n",
    "                    book_google = get_available_price(\"GOOGLE\", side)\n",
    "            \n",
    "            \n",
    "                    \n",
    "            \n",
    "        \n",
    "    \n",
    "    \n",
    "    "
   ]
  },
  {
   "cell_type": "code",
   "execution_count": 143,
   "id": "blessed-academy",
   "metadata": {},
   "outputs": [
    {
     "ename": "SyntaxError",
     "evalue": "unexpected EOF while parsing (<ipython-input-143-6874a663e7e8>, line 5)",
     "output_type": "error",
     "traceback": [
      "\u001b[0;36m  File \u001b[0;32m\"<ipython-input-143-6874a663e7e8>\"\u001b[0;36m, line \u001b[0;32m5\u001b[0m\n\u001b[0;31m    \u001b[0m\n\u001b[0m    ^\u001b[0m\n\u001b[0;31mSyntaxError\u001b[0m\u001b[0;31m:\u001b[0m unexpected EOF while parsing\n"
     ]
    }
   ],
   "source": [
    "instruments = [\"TECH_BASKET\",\"AMAZON\",\"GOOGLE\"]\n",
    "\n",
    "orders = e.get_outstanding_orders(\"TECH_BASKET\")\n",
    "for order in orders.values():\n",
    "    "
   ]
  },
  {
   "cell_type": "code",
   "execution_count": null,
   "id": "brazilian-quantum",
   "metadata": {},
   "outputs": [],
   "source": [
    "def set_limit(volume):\n",
    "    prices = get_prices()\n",
    "    \n",
    "    amazon = prices.get(\"AMAZON\")\n",
    "    google = prices.get(\"GOOGLE\")\n",
    "    basket = prices.get(\"TECH_BASKET\")\n",
    "    \n",
    "    if amazon.price + google.price < basket.price:\n",
    "        e.insert_order(\"TECH_BASKET\", price = basket.price, volume=volume, side=\"ask\")"
   ]
  },
  {
   "cell_type": "code",
   "execution_count": null,
   "id": "changing-alaska",
   "metadata": {},
   "outputs": [],
   "source": [
    "def fill_limit():\n",
    "    prices = get_prices(\"ask\", instruments=[\"AMAZON\", \"GOOGLE\"])\n",
    "    for trade in e.poll_new_trades(\"TECH_BASKET\"):\n",
    "        \n",
    "    "
   ]
  }
 ],
 "metadata": {
  "kernelspec": {
   "display_name": "Python 3",
   "language": "python",
   "name": "python3"
  },
  "language_info": {
   "codemirror_mode": {
    "name": "ipython",
    "version": 3
   },
   "file_extension": ".py",
   "mimetype": "text/x-python",
   "name": "python",
   "nbconvert_exporter": "python",
   "pygments_lexer": "ipython3",
   "version": "3.6.12"
  }
 },
 "nbformat": 4,
 "nbformat_minor": 5
}
